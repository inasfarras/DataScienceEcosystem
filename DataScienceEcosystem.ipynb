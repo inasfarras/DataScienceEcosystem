{
 "cells": [
  {
   "cell_type": "markdown",
   "id": "49584319",
   "metadata": {},
   "source": [
    "#  Data Science Tools and Ecosystem (Exercise 2)"
   ]
  },
  {
   "cell_type": "markdown",
   "id": "30108d75",
   "metadata": {},
   "source": [
    "In this notebook, Data Science Tools and Ecosystem are summarized. (Excercise 3)"
   ]
  },
  {
   "cell_type": "markdown",
   "id": "802453e3",
   "metadata": {},
   "source": [
    "Some of the popular languages that Data Scientists use are: (Excercise 4)\n",
    "\n",
    "1. python\n",
    "\n",
    "2. SQL\n",
    "\n",
    "3. R Language"
   ]
  },
  {
   "cell_type": "markdown",
   "id": "dc6f4325",
   "metadata": {},
   "source": [
    "Some of the commonly used libraries used by Data Scientists include:(Excercise 5)\n",
    "\n",
    "1. NumPy.\n",
    "\n",
    "2. Keras.\n",
    "\n",
    "3. Pandas.\n",
    "\n",
    "4. PyTorch.\n",
    "\n",
    "5. SciPy.\n",
    "\n",
    "6. Scikit-Learn.\n",
    "\n",
    "7. TensorFlow.\n",
    "\n",
    "8. Matplotlib."
   ]
  },
  {
   "cell_type": "markdown",
   "id": "d765870f",
   "metadata": {},
   "source": [
    "| Data Science Tools(Exercise 6)       |\n",
    "|-------------------------|\n",
    "| Jupyter Notebook        |\n",
    "| RStudio                 |\n",
    "| Visual Studio Code (VS Code) |\n"
   ]
  },
  {
   "cell_type": "markdown",
   "id": "39150c36",
   "metadata": {},
   "source": [
    "### Below are a few examples of evaluating arithmetic expressions in Python (Exercise 7)"
   ]
  },
  {
   "cell_type": "code",
   "execution_count": 3,
   "id": "d824662e",
   "metadata": {},
   "outputs": [
    {
     "name": "stdout",
     "output_type": "stream",
     "text": [
      "100\n"
     ]
    }
   ],
   "source": [
    "a = 45 + 55\n",
    "\n",
    "print(a)"
   ]
  },
  {
   "cell_type": "markdown",
   "id": "2d18a165",
   "metadata": {},
   "source": [
    "This a simple arithmetic expression to mutiply then add integers (Exercise 8)\n"
   ]
  },
  {
   "cell_type": "code",
   "execution_count": 4,
   "id": "9dfd216c",
   "metadata": {},
   "outputs": [
    {
     "name": "stdout",
     "output_type": "stream",
     "text": [
      "17\n"
     ]
    }
   ],
   "source": [
    "a = (3*4)+5\n",
    "print(a)"
   ]
  },
  {
   "cell_type": "markdown",
   "id": "e8520e07",
   "metadata": {},
   "source": [
    "This will convert 200 minutes to hours by diving by 60 (Exercise9)"
   ]
  },
  {
   "cell_type": "code",
   "execution_count": 5,
   "id": "4570aa8c",
   "metadata": {},
   "outputs": [
    {
     "name": "stdout",
     "output_type": "stream",
     "text": [
      "200 minutes is equal to 3.3333333333333335 hours\n"
     ]
    }
   ],
   "source": [
    "# Convert minutes to hours\n",
    "minutes = 200\n",
    "hours = minutes / 60\n",
    "\n",
    "print(f\"{minutes} minutes is equal to {hours} hours\")\n"
   ]
  },
  {
   "cell_type": "markdown",
   "id": "7f08d204",
   "metadata": {},
   "source": [
    "Objectives:(Exercise10)\n",
    "\n",
    "* Understand the basics of Data Science and its importance in today's world.\n",
    "* List popular programming languages commonly used in Data Science.\n",
    "* Familiarize with key libraries and tools utilized in the Data Science workflow.\n",
    "* Gain insights into the steps involved in a typical Data Science project lifecycle.\n",
    "* Explore various machine learning algorithms and their applications in real-world scenarios."
   ]
  },
  {
   "cell_type": "markdown",
   "id": "37d3dacc",
   "metadata": {},
   "source": [
    "# Author  : Inas Farras"
   ]
  }
 ],
 "metadata": {
  "kernelspec": {
   "display_name": "Python 3 (ipykernel)",
   "language": "python",
   "name": "python3"
  },
  "language_info": {
   "codemirror_mode": {
    "name": "ipython",
    "version": 3
   },
   "file_extension": ".py",
   "mimetype": "text/x-python",
   "name": "python",
   "nbconvert_exporter": "python",
   "pygments_lexer": "ipython3",
   "version": "3.11.2"
  }
 },
 "nbformat": 4,
 "nbformat_minor": 5
}
